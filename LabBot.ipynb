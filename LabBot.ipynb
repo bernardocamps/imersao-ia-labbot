{
  "nbformat": 4,
  "nbformat_minor": 0,
  "metadata": {
    "colab": {
      "provenance": [],
      "authorship_tag": "ABX9TyNnXT0MlC+jbLTzAhOda+yV",
      "include_colab_link": true
    },
    "kernelspec": {
      "name": "python3",
      "display_name": "Python 3"
    },
    "language_info": {
      "name": "python"
    },
    "widgets": {
      "application/vnd.jupyter.widget-state+json": {
        "a04e1179a3b54ea2820976509667bed2": {
          "model_module": "@jupyter-widgets/controls",
          "model_name": "HTMLModel",
          "model_module_version": "1.5.0",
          "state": {
            "_dom_classes": [],
            "_model_module": "@jupyter-widgets/controls",
            "_model_module_version": "1.5.0",
            "_model_name": "HTMLModel",
            "_view_count": null,
            "_view_module": "@jupyter-widgets/controls",
            "_view_module_version": "1.5.0",
            "_view_name": "HTMLView",
            "description": "",
            "description_tooltip": null,
            "layout": "IPY_MODEL_d31e425ed034430fbc8c41d7ab99eb3c",
            "placeholder": "​",
            "style": "IPY_MODEL_537b0d6314a44fc292f53faee25bf299",
            "value": "\n<style>\n.widget-box {\n    border-radius: 15px;\n    box-shadow: 2px 2px 5px rgba(0, 0, 0, 0.2);\n    padding: 20px;\n    margin-bottom: 20px;\n}\n.output-widget {\n    padding: 15px;\n    border-radius: 8px;\n}\n.input-widget input[type=\"text\"] {\n    width: 100%;\n    padding: 10px;\n    border: 1px solid #ccc;\n    border-radius: 5px;\n}\nbutton {\n    border-radius: 10px !important;\n}\np {\n    line-height: 1.6;\n}\na {\n    color: #007bff;\n    text-decoration: none;\n}\na:hover {\n    text-decoration: underline;\n}\n@media (max-width: 768px) {\n    .widget-box {\n        width: 90%;\n        margin: 0 auto;\n    }\n    .input-widget input[type=\"text\"], .output-widget {\n        font-size: 16px;\n    }\n}\n</style>\n"
          }
        },
        "d31e425ed034430fbc8c41d7ab99eb3c": {
          "model_module": "@jupyter-widgets/base",
          "model_name": "LayoutModel",
          "model_module_version": "1.2.0",
          "state": {
            "_model_module": "@jupyter-widgets/base",
            "_model_module_version": "1.2.0",
            "_model_name": "LayoutModel",
            "_view_count": null,
            "_view_module": "@jupyter-widgets/base",
            "_view_module_version": "1.2.0",
            "_view_name": "LayoutView",
            "align_content": null,
            "align_items": null,
            "align_self": null,
            "border": null,
            "bottom": null,
            "display": null,
            "flex": null,
            "flex_flow": null,
            "grid_area": null,
            "grid_auto_columns": null,
            "grid_auto_flow": null,
            "grid_auto_rows": null,
            "grid_column": null,
            "grid_gap": null,
            "grid_row": null,
            "grid_template_areas": null,
            "grid_template_columns": null,
            "grid_template_rows": null,
            "height": null,
            "justify_content": null,
            "justify_items": null,
            "left": null,
            "margin": null,
            "max_height": null,
            "max_width": null,
            "min_height": null,
            "min_width": null,
            "object_fit": null,
            "object_position": null,
            "order": null,
            "overflow": null,
            "overflow_x": null,
            "overflow_y": null,
            "padding": null,
            "right": null,
            "top": null,
            "visibility": null,
            "width": null
          }
        },
        "537b0d6314a44fc292f53faee25bf299": {
          "model_module": "@jupyter-widgets/controls",
          "model_name": "DescriptionStyleModel",
          "model_module_version": "1.5.0",
          "state": {
            "_model_module": "@jupyter-widgets/controls",
            "_model_module_version": "1.5.0",
            "_model_name": "DescriptionStyleModel",
            "_view_count": null,
            "_view_module": "@jupyter-widgets/base",
            "_view_module_version": "1.2.0",
            "_view_name": "StyleView",
            "description_width": ""
          }
        },
        "abbb579865a447cdb847684a558a5976": {
          "model_module": "@jupyter-widgets/controls",
          "model_name": "VBoxModel",
          "model_module_version": "1.5.0",
          "state": {
            "_dom_classes": [],
            "_model_module": "@jupyter-widgets/controls",
            "_model_module_version": "1.5.0",
            "_model_name": "VBoxModel",
            "_view_count": null,
            "_view_module": "@jupyter-widgets/controls",
            "_view_module_version": "1.5.0",
            "_view_name": "VBoxView",
            "box_style": "",
            "children": [
              "IPY_MODEL_fc9e9368317b40448b127b2d86cddaed",
              "IPY_MODEL_22e7b7fb65e54806b79e25162ed96922",
              "IPY_MODEL_6c36b2deba91469facd7815675f7a9e2",
              "IPY_MODEL_3208aae0cb8e47cfb0695fcebfda6a62"
            ],
            "layout": "IPY_MODEL_fc0985e4f01844a1b988f4006d1978cb"
          }
        },
        "fc9e9368317b40448b127b2d86cddaed": {
          "model_module": "@jupyter-widgets/controls",
          "model_name": "HTMLModel",
          "model_module_version": "1.5.0",
          "state": {
            "_dom_classes": [],
            "_model_module": "@jupyter-widgets/controls",
            "_model_module_version": "1.5.0",
            "_model_name": "HTMLModel",
            "_view_count": null,
            "_view_module": "@jupyter-widgets/controls",
            "_view_module_version": "1.5.0",
            "_view_name": "HTMLView",
            "description": "",
            "description_tooltip": null,
            "layout": "IPY_MODEL_a30a89e226614ffe9e2e5325357064d8",
            "placeholder": "​",
            "style": "IPY_MODEL_2f7d473782974cec9bd8d6ec14f75652",
            "value": "<h2>LabBot: Seu parceiro na busca pelo especialista ideal!</h2>"
          }
        },
        "22e7b7fb65e54806b79e25162ed96922": {
          "model_module": "@jupyter-widgets/controls",
          "model_name": "HTMLModel",
          "model_module_version": "1.5.0",
          "state": {
            "_dom_classes": [],
            "_model_module": "@jupyter-widgets/controls",
            "_model_module_version": "1.5.0",
            "_model_name": "HTMLModel",
            "_view_count": null,
            "_view_module": "@jupyter-widgets/controls",
            "_view_module_version": "1.5.0",
            "_view_name": "HTMLView",
            "description": "",
            "description_tooltip": null,
            "layout": "IPY_MODEL_17bde5690fd24316afe47f503808c3c7",
            "placeholder": "​",
            "style": "IPY_MODEL_9385646a297a4db4a52fd9915212770d",
            "value": "<p>Exames alterados? 🤔 Conte para mim quais são e onde você está, que eu te ajudo a encontrar o médico correto para avaliar o seu caso:</p>"
          }
        },
        "6c36b2deba91469facd7815675f7a9e2": {
          "model_module": "@jupyter-widgets/controls",
          "model_name": "HBoxModel",
          "model_module_version": "1.5.0",
          "state": {
            "_dom_classes": [],
            "_model_module": "@jupyter-widgets/controls",
            "_model_module_version": "1.5.0",
            "_model_name": "HBoxModel",
            "_view_count": null,
            "_view_module": "@jupyter-widgets/controls",
            "_view_module_version": "1.5.0",
            "_view_name": "HBoxView",
            "box_style": "",
            "children": [
              "IPY_MODEL_0b9b61d0838c4ea08aa2d4ce88e5c58a",
              "IPY_MODEL_a01ffd0d64c34626a1a337de8e185fae",
              "IPY_MODEL_34ea587e80274784af50e29753186fd1"
            ],
            "layout": "IPY_MODEL_78c25ecea14b4e1a893ff7099f1631f3"
          }
        },
        "3208aae0cb8e47cfb0695fcebfda6a62": {
          "model_module": "@jupyter-widgets/output",
          "model_name": "OutputModel",
          "model_module_version": "1.0.0",
          "state": {
            "_dom_classes": [],
            "_model_module": "@jupyter-widgets/output",
            "_model_module_version": "1.0.0",
            "_model_name": "OutputModel",
            "_view_count": null,
            "_view_module": "@jupyter-widgets/output",
            "_view_module_version": "1.0.0",
            "_view_name": "OutputView",
            "layout": "IPY_MODEL_59200efc00c44c12b30f2562c7a667c4",
            "msg_id": "",
            "outputs": [
              {
                "output_type": "stream",
                "name": "stdout",
                "text": [
                  "Médico recomendado: Cirurgião geral\n"
                ]
              },
              {
                "output_type": "display_data",
                "data": {
                  "text/plain": "HTML(value='<a href=\"https://www.google.com/maps/search/Cirurgi%C3%A3o%20geral+goiania\" target=\"_blank\">Veja n…",
                  "application/vnd.jupyter.widget-view+json": {
                    "version_major": 2,
                    "version_minor": 0,
                    "model_id": "158e149c1cf742a381ea54af230bc01c"
                  }
                },
                "metadata": {}
              }
            ]
          }
        },
        "fc0985e4f01844a1b988f4006d1978cb": {
          "model_module": "@jupyter-widgets/base",
          "model_name": "LayoutModel",
          "model_module_version": "1.2.0",
          "state": {
            "_model_module": "@jupyter-widgets/base",
            "_model_module_version": "1.2.0",
            "_model_name": "LayoutModel",
            "_view_count": null,
            "_view_module": "@jupyter-widgets/base",
            "_view_module_version": "1.2.0",
            "_view_name": "LayoutView",
            "align_content": null,
            "align_items": null,
            "align_self": null,
            "border": null,
            "bottom": null,
            "display": null,
            "flex": null,
            "flex_flow": null,
            "grid_area": null,
            "grid_auto_columns": null,
            "grid_auto_flow": null,
            "grid_auto_rows": null,
            "grid_column": null,
            "grid_gap": null,
            "grid_row": null,
            "grid_template_areas": null,
            "grid_template_columns": null,
            "grid_template_rows": null,
            "height": null,
            "justify_content": null,
            "justify_items": null,
            "left": null,
            "margin": null,
            "max_height": null,
            "max_width": null,
            "min_height": null,
            "min_width": null,
            "object_fit": null,
            "object_position": null,
            "order": null,
            "overflow": null,
            "overflow_x": null,
            "overflow_y": null,
            "padding": null,
            "right": null,
            "top": null,
            "visibility": null,
            "width": null
          }
        },
        "a30a89e226614ffe9e2e5325357064d8": {
          "model_module": "@jupyter-widgets/base",
          "model_name": "LayoutModel",
          "model_module_version": "1.2.0",
          "state": {
            "_model_module": "@jupyter-widgets/base",
            "_model_module_version": "1.2.0",
            "_model_name": "LayoutModel",
            "_view_count": null,
            "_view_module": "@jupyter-widgets/base",
            "_view_module_version": "1.2.0",
            "_view_name": "LayoutView",
            "align_content": null,
            "align_items": null,
            "align_self": null,
            "border": null,
            "bottom": null,
            "display": null,
            "flex": null,
            "flex_flow": null,
            "grid_area": null,
            "grid_auto_columns": null,
            "grid_auto_flow": null,
            "grid_auto_rows": null,
            "grid_column": null,
            "grid_gap": null,
            "grid_row": null,
            "grid_template_areas": null,
            "grid_template_columns": null,
            "grid_template_rows": null,
            "height": null,
            "justify_content": null,
            "justify_items": null,
            "left": null,
            "margin": null,
            "max_height": null,
            "max_width": null,
            "min_height": null,
            "min_width": null,
            "object_fit": null,
            "object_position": null,
            "order": null,
            "overflow": null,
            "overflow_x": null,
            "overflow_y": null,
            "padding": null,
            "right": null,
            "top": null,
            "visibility": null,
            "width": null
          }
        },
        "2f7d473782974cec9bd8d6ec14f75652": {
          "model_module": "@jupyter-widgets/controls",
          "model_name": "DescriptionStyleModel",
          "model_module_version": "1.5.0",
          "state": {
            "_model_module": "@jupyter-widgets/controls",
            "_model_module_version": "1.5.0",
            "_model_name": "DescriptionStyleModel",
            "_view_count": null,
            "_view_module": "@jupyter-widgets/base",
            "_view_module_version": "1.2.0",
            "_view_name": "StyleView",
            "description_width": ""
          }
        },
        "17bde5690fd24316afe47f503808c3c7": {
          "model_module": "@jupyter-widgets/base",
          "model_name": "LayoutModel",
          "model_module_version": "1.2.0",
          "state": {
            "_model_module": "@jupyter-widgets/base",
            "_model_module_version": "1.2.0",
            "_model_name": "LayoutModel",
            "_view_count": null,
            "_view_module": "@jupyter-widgets/base",
            "_view_module_version": "1.2.0",
            "_view_name": "LayoutView",
            "align_content": null,
            "align_items": null,
            "align_self": null,
            "border": null,
            "bottom": null,
            "display": null,
            "flex": null,
            "flex_flow": null,
            "grid_area": null,
            "grid_auto_columns": null,
            "grid_auto_flow": null,
            "grid_auto_rows": null,
            "grid_column": null,
            "grid_gap": null,
            "grid_row": null,
            "grid_template_areas": null,
            "grid_template_columns": null,
            "grid_template_rows": null,
            "height": null,
            "justify_content": null,
            "justify_items": null,
            "left": null,
            "margin": null,
            "max_height": null,
            "max_width": null,
            "min_height": null,
            "min_width": null,
            "object_fit": null,
            "object_position": null,
            "order": null,
            "overflow": null,
            "overflow_x": null,
            "overflow_y": null,
            "padding": null,
            "right": null,
            "top": null,
            "visibility": null,
            "width": null
          }
        },
        "9385646a297a4db4a52fd9915212770d": {
          "model_module": "@jupyter-widgets/controls",
          "model_name": "DescriptionStyleModel",
          "model_module_version": "1.5.0",
          "state": {
            "_model_module": "@jupyter-widgets/controls",
            "_model_module_version": "1.5.0",
            "_model_name": "DescriptionStyleModel",
            "_view_count": null,
            "_view_module": "@jupyter-widgets/base",
            "_view_module_version": "1.2.0",
            "_view_name": "StyleView",
            "description_width": ""
          }
        },
        "0b9b61d0838c4ea08aa2d4ce88e5c58a": {
          "model_module": "@jupyter-widgets/controls",
          "model_name": "TextModel",
          "model_module_version": "1.5.0",
          "state": {
            "_dom_classes": [],
            "_model_module": "@jupyter-widgets/controls",
            "_model_module_version": "1.5.0",
            "_model_name": "TextModel",
            "_view_count": null,
            "_view_module": "@jupyter-widgets/controls",
            "_view_module_version": "1.5.0",
            "_view_name": "TextView",
            "continuous_update": true,
            "description": "Exames:",
            "description_tooltip": null,
            "disabled": false,
            "layout": "IPY_MODEL_a9fc46848e434b79b0f26ac23de1266c",
            "placeholder": "​",
            "style": "IPY_MODEL_c566dd8a78dc4426847d73a24e39040a",
            "value": ""
          }
        },
        "a01ffd0d64c34626a1a337de8e185fae": {
          "model_module": "@jupyter-widgets/controls",
          "model_name": "TextModel",
          "model_module_version": "1.5.0",
          "state": {
            "_dom_classes": [],
            "_model_module": "@jupyter-widgets/controls",
            "_model_module_version": "1.5.0",
            "_model_name": "TextModel",
            "_view_count": null,
            "_view_module": "@jupyter-widgets/controls",
            "_view_module_version": "1.5.0",
            "_view_name": "TextView",
            "continuous_update": true,
            "description": "Cidade:",
            "description_tooltip": null,
            "disabled": false,
            "layout": "IPY_MODEL_8d6e511c9dd549aba399e8e6f00025fb",
            "placeholder": "​",
            "style": "IPY_MODEL_d43a3b97833d44c19e5916338850dced",
            "value": ""
          }
        },
        "34ea587e80274784af50e29753186fd1": {
          "model_module": "@jupyter-widgets/controls",
          "model_name": "ButtonModel",
          "model_module_version": "1.5.0",
          "state": {
            "_dom_classes": [],
            "_model_module": "@jupyter-widgets/controls",
            "_model_module_version": "1.5.0",
            "_model_name": "ButtonModel",
            "_view_count": null,
            "_view_module": "@jupyter-widgets/controls",
            "_view_module_version": "1.5.0",
            "_view_name": "ButtonView",
            "button_style": "info",
            "description": "Pesquisar",
            "disabled": false,
            "icon": "",
            "layout": "IPY_MODEL_a79796b507584a31bfa0b3fd06385883",
            "style": "IPY_MODEL_b7e91c87b86c474994c6c23446aaf3ca",
            "tooltip": ""
          }
        },
        "78c25ecea14b4e1a893ff7099f1631f3": {
          "model_module": "@jupyter-widgets/base",
          "model_name": "LayoutModel",
          "model_module_version": "1.2.0",
          "state": {
            "_model_module": "@jupyter-widgets/base",
            "_model_module_version": "1.2.0",
            "_model_name": "LayoutModel",
            "_view_count": null,
            "_view_module": "@jupyter-widgets/base",
            "_view_module_version": "1.2.0",
            "_view_name": "LayoutView",
            "align_content": null,
            "align_items": null,
            "align_self": null,
            "border": null,
            "bottom": null,
            "display": null,
            "flex": null,
            "flex_flow": null,
            "grid_area": null,
            "grid_auto_columns": null,
            "grid_auto_flow": null,
            "grid_auto_rows": null,
            "grid_column": null,
            "grid_gap": null,
            "grid_row": null,
            "grid_template_areas": null,
            "grid_template_columns": null,
            "grid_template_rows": null,
            "height": null,
            "justify_content": null,
            "justify_items": null,
            "left": null,
            "margin": null,
            "max_height": null,
            "max_width": null,
            "min_height": null,
            "min_width": null,
            "object_fit": null,
            "object_position": null,
            "order": null,
            "overflow": null,
            "overflow_x": null,
            "overflow_y": null,
            "padding": null,
            "right": null,
            "top": null,
            "visibility": null,
            "width": null
          }
        },
        "a9fc46848e434b79b0f26ac23de1266c": {
          "model_module": "@jupyter-widgets/base",
          "model_name": "LayoutModel",
          "model_module_version": "1.2.0",
          "state": {
            "_model_module": "@jupyter-widgets/base",
            "_model_module_version": "1.2.0",
            "_model_name": "LayoutModel",
            "_view_count": null,
            "_view_module": "@jupyter-widgets/base",
            "_view_module_version": "1.2.0",
            "_view_name": "LayoutView",
            "align_content": null,
            "align_items": null,
            "align_self": null,
            "border": null,
            "bottom": null,
            "display": null,
            "flex": null,
            "flex_flow": null,
            "grid_area": null,
            "grid_auto_columns": null,
            "grid_auto_flow": null,
            "grid_auto_rows": null,
            "grid_column": null,
            "grid_gap": null,
            "grid_row": null,
            "grid_template_areas": null,
            "grid_template_columns": null,
            "grid_template_rows": null,
            "height": null,
            "justify_content": null,
            "justify_items": null,
            "left": null,
            "margin": null,
            "max_height": null,
            "max_width": null,
            "min_height": null,
            "min_width": null,
            "object_fit": null,
            "object_position": null,
            "order": null,
            "overflow": null,
            "overflow_x": null,
            "overflow_y": null,
            "padding": null,
            "right": null,
            "top": null,
            "visibility": null,
            "width": "400px"
          }
        },
        "c566dd8a78dc4426847d73a24e39040a": {
          "model_module": "@jupyter-widgets/controls",
          "model_name": "DescriptionStyleModel",
          "model_module_version": "1.5.0",
          "state": {
            "_model_module": "@jupyter-widgets/controls",
            "_model_module_version": "1.5.0",
            "_model_name": "DescriptionStyleModel",
            "_view_count": null,
            "_view_module": "@jupyter-widgets/base",
            "_view_module_version": "1.2.0",
            "_view_name": "StyleView",
            "description_width": ""
          }
        },
        "8d6e511c9dd549aba399e8e6f00025fb": {
          "model_module": "@jupyter-widgets/base",
          "model_name": "LayoutModel",
          "model_module_version": "1.2.0",
          "state": {
            "_model_module": "@jupyter-widgets/base",
            "_model_module_version": "1.2.0",
            "_model_name": "LayoutModel",
            "_view_count": null,
            "_view_module": "@jupyter-widgets/base",
            "_view_module_version": "1.2.0",
            "_view_name": "LayoutView",
            "align_content": null,
            "align_items": null,
            "align_self": null,
            "border": null,
            "bottom": null,
            "display": null,
            "flex": null,
            "flex_flow": null,
            "grid_area": null,
            "grid_auto_columns": null,
            "grid_auto_flow": null,
            "grid_auto_rows": null,
            "grid_column": null,
            "grid_gap": null,
            "grid_row": null,
            "grid_template_areas": null,
            "grid_template_columns": null,
            "grid_template_rows": null,
            "height": null,
            "justify_content": null,
            "justify_items": null,
            "left": null,
            "margin": null,
            "max_height": null,
            "max_width": null,
            "min_height": null,
            "min_width": null,
            "object_fit": null,
            "object_position": null,
            "order": null,
            "overflow": null,
            "overflow_x": null,
            "overflow_y": null,
            "padding": null,
            "right": null,
            "top": null,
            "visibility": null,
            "width": "300px"
          }
        },
        "d43a3b97833d44c19e5916338850dced": {
          "model_module": "@jupyter-widgets/controls",
          "model_name": "DescriptionStyleModel",
          "model_module_version": "1.5.0",
          "state": {
            "_model_module": "@jupyter-widgets/controls",
            "_model_module_version": "1.5.0",
            "_model_name": "DescriptionStyleModel",
            "_view_count": null,
            "_view_module": "@jupyter-widgets/base",
            "_view_module_version": "1.2.0",
            "_view_name": "StyleView",
            "description_width": ""
          }
        },
        "a79796b507584a31bfa0b3fd06385883": {
          "model_module": "@jupyter-widgets/base",
          "model_name": "LayoutModel",
          "model_module_version": "1.2.0",
          "state": {
            "_model_module": "@jupyter-widgets/base",
            "_model_module_version": "1.2.0",
            "_model_name": "LayoutModel",
            "_view_count": null,
            "_view_module": "@jupyter-widgets/base",
            "_view_module_version": "1.2.0",
            "_view_name": "LayoutView",
            "align_content": null,
            "align_items": null,
            "align_self": null,
            "border": null,
            "bottom": null,
            "display": null,
            "flex": null,
            "flex_flow": null,
            "grid_area": null,
            "grid_auto_columns": null,
            "grid_auto_flow": null,
            "grid_auto_rows": null,
            "grid_column": null,
            "grid_gap": null,
            "grid_row": null,
            "grid_template_areas": null,
            "grid_template_columns": null,
            "grid_template_rows": null,
            "height": null,
            "justify_content": null,
            "justify_items": null,
            "left": null,
            "margin": null,
            "max_height": null,
            "max_width": null,
            "min_height": null,
            "min_width": null,
            "object_fit": null,
            "object_position": null,
            "order": null,
            "overflow": null,
            "overflow_x": null,
            "overflow_y": null,
            "padding": null,
            "right": null,
            "top": null,
            "visibility": null,
            "width": "90px"
          }
        },
        "b7e91c87b86c474994c6c23446aaf3ca": {
          "model_module": "@jupyter-widgets/controls",
          "model_name": "ButtonStyleModel",
          "model_module_version": "1.5.0",
          "state": {
            "_model_module": "@jupyter-widgets/controls",
            "_model_module_version": "1.5.0",
            "_model_name": "ButtonStyleModel",
            "_view_count": null,
            "_view_module": "@jupyter-widgets/base",
            "_view_module_version": "1.2.0",
            "_view_name": "StyleView",
            "button_color": null,
            "font_weight": ""
          }
        },
        "59200efc00c44c12b30f2562c7a667c4": {
          "model_module": "@jupyter-widgets/base",
          "model_name": "LayoutModel",
          "model_module_version": "1.2.0",
          "state": {
            "_model_module": "@jupyter-widgets/base",
            "_model_module_version": "1.2.0",
            "_model_name": "LayoutModel",
            "_view_count": null,
            "_view_module": "@jupyter-widgets/base",
            "_view_module_version": "1.2.0",
            "_view_name": "LayoutView",
            "align_content": null,
            "align_items": null,
            "align_self": null,
            "border": null,
            "bottom": null,
            "display": null,
            "flex": null,
            "flex_flow": null,
            "grid_area": null,
            "grid_auto_columns": null,
            "grid_auto_flow": null,
            "grid_auto_rows": null,
            "grid_column": null,
            "grid_gap": null,
            "grid_row": null,
            "grid_template_areas": null,
            "grid_template_columns": null,
            "grid_template_rows": null,
            "height": null,
            "justify_content": null,
            "justify_items": null,
            "left": null,
            "margin": null,
            "max_height": null,
            "max_width": null,
            "min_height": null,
            "min_width": null,
            "object_fit": null,
            "object_position": null,
            "order": null,
            "overflow": null,
            "overflow_x": null,
            "overflow_y": null,
            "padding": "10px",
            "right": null,
            "top": null,
            "visibility": null,
            "width": null
          }
        },
        "a4cbd8b7d14241f8ad9dab84e83e5477": {
          "model_module": "@jupyter-widgets/controls",
          "model_name": "HTMLModel",
          "model_module_version": "1.5.0",
          "state": {
            "_dom_classes": [],
            "_model_module": "@jupyter-widgets/controls",
            "_model_module_version": "1.5.0",
            "_model_name": "HTMLModel",
            "_view_count": null,
            "_view_module": "@jupyter-widgets/controls",
            "_view_module_version": "1.5.0",
            "_view_name": "HTMLView",
            "description": "",
            "description_tooltip": null,
            "layout": "IPY_MODEL_18ba1e2728e148359229e773871d3de5",
            "placeholder": "​",
            "style": "IPY_MODEL_2feadd98f0124d3896436b59c401e133",
            "value": "<a href=\"https://www.google.com/maps/search/Endocrinologista+goiania\" target=\"_blank\">Veja no Google Maps</a> 🔍"
          }
        },
        "18ba1e2728e148359229e773871d3de5": {
          "model_module": "@jupyter-widgets/base",
          "model_name": "LayoutModel",
          "model_module_version": "1.2.0",
          "state": {
            "_model_module": "@jupyter-widgets/base",
            "_model_module_version": "1.2.0",
            "_model_name": "LayoutModel",
            "_view_count": null,
            "_view_module": "@jupyter-widgets/base",
            "_view_module_version": "1.2.0",
            "_view_name": "LayoutView",
            "align_content": null,
            "align_items": null,
            "align_self": null,
            "border": null,
            "bottom": null,
            "display": null,
            "flex": null,
            "flex_flow": null,
            "grid_area": null,
            "grid_auto_columns": null,
            "grid_auto_flow": null,
            "grid_auto_rows": null,
            "grid_column": null,
            "grid_gap": null,
            "grid_row": null,
            "grid_template_areas": null,
            "grid_template_columns": null,
            "grid_template_rows": null,
            "height": null,
            "justify_content": null,
            "justify_items": null,
            "left": null,
            "margin": null,
            "max_height": null,
            "max_width": null,
            "min_height": null,
            "min_width": null,
            "object_fit": null,
            "object_position": null,
            "order": null,
            "overflow": null,
            "overflow_x": null,
            "overflow_y": null,
            "padding": null,
            "right": null,
            "top": null,
            "visibility": null,
            "width": null
          }
        },
        "2feadd98f0124d3896436b59c401e133": {
          "model_module": "@jupyter-widgets/controls",
          "model_name": "DescriptionStyleModel",
          "model_module_version": "1.5.0",
          "state": {
            "_model_module": "@jupyter-widgets/controls",
            "_model_module_version": "1.5.0",
            "_model_name": "DescriptionStyleModel",
            "_view_count": null,
            "_view_module": "@jupyter-widgets/base",
            "_view_module_version": "1.2.0",
            "_view_name": "StyleView",
            "description_width": ""
          }
        },
        "158e149c1cf742a381ea54af230bc01c": {
          "model_module": "@jupyter-widgets/controls",
          "model_name": "HTMLModel",
          "model_module_version": "1.5.0",
          "state": {
            "_dom_classes": [],
            "_model_module": "@jupyter-widgets/controls",
            "_model_module_version": "1.5.0",
            "_model_name": "HTMLModel",
            "_view_count": null,
            "_view_module": "@jupyter-widgets/controls",
            "_view_module_version": "1.5.0",
            "_view_name": "HTMLView",
            "description": "",
            "description_tooltip": null,
            "layout": "IPY_MODEL_b5c32081fe9349d5934f2ba94ff01a48",
            "placeholder": "​",
            "style": "IPY_MODEL_07ec59edfc144b3c8558282f15a128e2",
            "value": "<a href=\"https://www.google.com/maps/search/Cirurgi%C3%A3o%20geral+goiania\" target=\"_blank\">Veja no Google Maps</a> 🔍"
          }
        },
        "b5c32081fe9349d5934f2ba94ff01a48": {
          "model_module": "@jupyter-widgets/base",
          "model_name": "LayoutModel",
          "model_module_version": "1.2.0",
          "state": {
            "_model_module": "@jupyter-widgets/base",
            "_model_module_version": "1.2.0",
            "_model_name": "LayoutModel",
            "_view_count": null,
            "_view_module": "@jupyter-widgets/base",
            "_view_module_version": "1.2.0",
            "_view_name": "LayoutView",
            "align_content": null,
            "align_items": null,
            "align_self": null,
            "border": null,
            "bottom": null,
            "display": null,
            "flex": null,
            "flex_flow": null,
            "grid_area": null,
            "grid_auto_columns": null,
            "grid_auto_flow": null,
            "grid_auto_rows": null,
            "grid_column": null,
            "grid_gap": null,
            "grid_row": null,
            "grid_template_areas": null,
            "grid_template_columns": null,
            "grid_template_rows": null,
            "height": null,
            "justify_content": null,
            "justify_items": null,
            "left": null,
            "margin": null,
            "max_height": null,
            "max_width": null,
            "min_height": null,
            "min_width": null,
            "object_fit": null,
            "object_position": null,
            "order": null,
            "overflow": null,
            "overflow_x": null,
            "overflow_y": null,
            "padding": null,
            "right": null,
            "top": null,
            "visibility": null,
            "width": null
          }
        },
        "07ec59edfc144b3c8558282f15a128e2": {
          "model_module": "@jupyter-widgets/controls",
          "model_name": "DescriptionStyleModel",
          "model_module_version": "1.5.0",
          "state": {
            "_model_module": "@jupyter-widgets/controls",
            "_model_module_version": "1.5.0",
            "_model_name": "DescriptionStyleModel",
            "_view_count": null,
            "_view_module": "@jupyter-widgets/base",
            "_view_module_version": "1.2.0",
            "_view_name": "StyleView",
            "description_width": ""
          }
        }
      }
    }
  },
  "cells": [
    {
      "cell_type": "markdown",
      "metadata": {
        "id": "view-in-github",
        "colab_type": "text"
      },
      "source": [
        "<a href=\"https://colab.research.google.com/github/bernardocamps/imersao-ia-labbot/blob/main/LabBot.ipynb\" target=\"_parent\"><img src=\"https://colab.research.google.com/assets/colab-badge.svg\" alt=\"Open In Colab\"/></a>"
      ]
    },
    {
      "cell_type": "markdown",
      "source": [
        "# Instalar e importar o Google Generative AI"
      ],
      "metadata": {
        "id": "B8hkA7N5NcMD"
      }
    },
    {
      "cell_type": "code",
      "execution_count": 255,
      "metadata": {
        "id": "7pbf616x1Ida"
      },
      "outputs": [],
      "source": [
        "!pip install -q -U google-generativeai\n",
        "import google.generativeai as genai"
      ]
    },
    {
      "cell_type": "markdown",
      "source": [
        "# Configurar a API Key"
      ],
      "metadata": {
        "id": "jt0UeTi8OB69"
      }
    },
    {
      "cell_type": "code",
      "source": [
        "from google.colab import userdata\n",
        "GOOGLE_API_KEY=userdata.get('GOOGLE_API_KEY')\n",
        "genai.configure(api_key=GOOGLE_API_KEY)"
      ],
      "metadata": {
        "id": "fqnzs8yPNw1B"
      },
      "execution_count": 256,
      "outputs": []
    },
    {
      "cell_type": "markdown",
      "source": [
        "# Listar os modelos disponíveis"
      ],
      "metadata": {
        "id": "IZtXfRLqNUJU"
      }
    },
    {
      "cell_type": "code",
      "source": [
        "for m in genai.list_models():\n",
        "  if 'generateContent' in m.supported_generation_methods:\n",
        "    print(m.name)"
      ],
      "metadata": {
        "id": "f5D_2PIQJyG-",
        "colab": {
          "base_uri": "https://localhost:8080/",
          "height": 156
        },
        "outputId": "e038f248-d0cc-4dde-f16c-8bac14a1343a"
      },
      "execution_count": 257,
      "outputs": [
        {
          "output_type": "stream",
          "name": "stderr",
          "text": [
            "2024-05-11 01:43:40.792 200 GET /v1beta/models?pageSize=50&%24alt=json%3Benum-encoding%3Dint (127.0.0.1) 2257.31ms\n"
          ]
        },
        {
          "output_type": "stream",
          "name": "stdout",
          "text": [
            "models/gemini-1.0-pro\n",
            "models/gemini-1.0-pro-001\n",
            "models/gemini-1.0-pro-latest\n",
            "models/gemini-1.0-pro-vision-latest\n",
            "models/gemini-1.5-pro-latest\n",
            "models/gemini-pro\n",
            "models/gemini-pro-vision\n"
          ]
        }
      ]
    },
    {
      "cell_type": "markdown",
      "source": [
        "# Configurar os parâmetros"
      ],
      "metadata": {
        "id": "x_PnZUQIOQQI"
      }
    },
    {
      "cell_type": "code",
      "source": [
        "generation_config = {\n",
        "    \"candidate_count\": 1,\n",
        "    \"temperature\": 0.5,\n",
        "}"
      ],
      "metadata": {
        "id": "UOGt4TcHLKcv"
      },
      "execution_count": 258,
      "outputs": []
    },
    {
      "cell_type": "markdown",
      "source": [
        "# Configurar as opções de segurança"
      ],
      "metadata": {
        "id": "xfXEKHqwOTpT"
      }
    },
    {
      "cell_type": "code",
      "source": [
        "safety_settings = {\n",
        "    \"HARASSMENT\": \"BLOCK_NONE\",\n",
        "    \"HATE\": \"BLOCK_NONE\",\n",
        "    \"SEXUAL\": \"BLOCK_NONE\",\n",
        "    \"DANGEROUS\": \"BLOCK_NONE\",\n",
        "}"
      ],
      "metadata": {
        "id": "L_m8Q7hSLkkx"
      },
      "execution_count": 259,
      "outputs": []
    },
    {
      "cell_type": "markdown",
      "source": [
        "# Inicializar o modelo"
      ],
      "metadata": {
        "id": "5e7ILTazMQEh"
      }
    },
    {
      "cell_type": "code",
      "source": [
        "model = genai.GenerativeModel(model_name=\"gemini-1.0-pro\",\n",
        "                              generation_config=generation_config,\n",
        "                              safety_settings=safety_settings)"
      ],
      "metadata": {
        "id": "ouQyAAHTMSJn"
      },
      "execution_count": 260,
      "outputs": []
    },
    {
      "cell_type": "markdown",
      "source": [
        "# Criar chat:"
      ],
      "metadata": {
        "id": "sYpTYTgGOkyQ"
      }
    },
    {
      "cell_type": "code",
      "source": [
        "chat = model.start_chat(history=[])"
      ],
      "metadata": {
        "id": "OnDy0HnOOnWQ"
      },
      "execution_count": 261,
      "outputs": []
    },
    {
      "cell_type": "markdown",
      "source": [
        "# Iniciar chat com o LabBot:"
      ],
      "metadata": {
        "id": "nwxafrj9TT9M"
      }
    },
    {
      "cell_type": "code",
      "source": [
        "import ipywidgets as widgets\n",
        "from IPython.display import display, clear_output\n",
        "import contextlib\n",
        "import io\n",
        "from urllib.parse import quote\n",
        "\n",
        "# Estilos CSS\n",
        "style = \"\"\"\n",
        "<style>\n",
        ".widget-box {\n",
        "    border-radius: 15px;\n",
        "    box-shadow: 2px 2px 5px rgba(0, 0, 0, 0.2);\n",
        "    padding: 20px;\n",
        "    margin-bottom: 20px;\n",
        "}\n",
        ".output-widget {\n",
        "    padding: 15px;\n",
        "    border-radius: 8px;\n",
        "}\n",
        ".input-widget input[type=\"text\"] {\n",
        "    width: 100%;\n",
        "    padding: 10px;\n",
        "    border: 1px solid #ccc;\n",
        "    border-radius: 5px;\n",
        "}\n",
        "button {\n",
        "    border-radius: 10px !important;\n",
        "}\n",
        "p {\n",
        "    line-height: 1.6;\n",
        "}\n",
        "a {\n",
        "    color: #007bff;\n",
        "    text-decoration: none;\n",
        "}\n",
        "a:hover {\n",
        "    text-decoration: underline;\n",
        "}\n",
        "@media (max-width: 768px) {\n",
        "    .widget-box {\n",
        "        width: 90%;\n",
        "        margin: 0 auto;\n",
        "    }\n",
        "    .input-widget input[type=\"text\"], .output-widget {\n",
        "        font-size: 16px;\n",
        "    }\n",
        "}\n",
        "</style>\n",
        "\"\"\"\n",
        "display(widgets.HTML(style))\n",
        "\n",
        "# Widgets principais\n",
        "output_widget = widgets.Output(layout={'padding': '10px'})\n",
        "input_widget = widgets.Text(description=\"Exames:\", layout={'width': '400px'})\n",
        "city_widget = widgets.Text(description=\"Cidade:\", layout={'width': '300px'})\n",
        "button_widget = widgets.Button(description=\"Pesquisar\", button_style='info', layout={'width': '90px'})\n",
        "\n",
        "# Layout\n",
        "display(widgets.VBox([\n",
        "    widgets.HTML(\"<h2>LabBot: Seu parceiro na busca pelo especialista ideal!</h2>\"),\n",
        "    widgets.HTML(\"<p>Exames alterados? 🤔 Conte para mim quais são e onde você está, que eu te ajudo a encontrar o médico correto para avaliar o seu caso:</p>\"),\n",
        "    widgets.HBox([input_widget, city_widget, button_widget]),\n",
        "    output_widget\n",
        "]))\n",
        "\n",
        "# Função para enviar a mensagem\n",
        "def enviar_mensagem(_):\n",
        "    exames = input_widget.value\n",
        "    cidade = city_widget.value\n",
        "    input_widget.value = \"\"\n",
        "    city_widget.value = \"\"\n",
        "\n",
        "    if exames.lower() == \"fim\":\n",
        "        with output_widget:\n",
        "            clear_output()\n",
        "            print(\"👋 Até logo!\")\n",
        "        return\n",
        "\n",
        "    with output_widget:\n",
        "        with contextlib.redirect_stdout(io.StringIO()):\n",
        "            response = chat.send_message(f\"Para os exames alterados '{exames}', qual a especialidade médica mais indicada para avaliação? Responda apenas o nome do especialista recomendado. Não coloque o resultado entre ** **\")\n",
        "\n",
        "        clear_output()\n",
        "        print(f\"Médico recomendado: {response.text}\")\n",
        "\n",
        "        # Gera link para o Google Maps\n",
        "        especialidade_encoded = quote(response.text)\n",
        "        cidade_encoded = quote(cidade)\n",
        "        maps_link = f\"https://www.google.com/maps/search/{especialidade_encoded}+{cidade_encoded}\"\n",
        "        display(widgets.HTML(f'<a href=\"{maps_link}\" target=\"_blank\">Veja no Google Maps</a> 🔍'))\n",
        "\n",
        "# Eventos\n",
        "button_widget.on_click(enviar_mensagem)\n"
      ],
      "metadata": {
        "id": "8DN9qVB3RWso",
        "colab": {
          "base_uri": "https://localhost:8080/",
          "height": 332,
          "referenced_widgets": [
            "a04e1179a3b54ea2820976509667bed2",
            "d31e425ed034430fbc8c41d7ab99eb3c",
            "537b0d6314a44fc292f53faee25bf299",
            "abbb579865a447cdb847684a558a5976",
            "fc9e9368317b40448b127b2d86cddaed",
            "22e7b7fb65e54806b79e25162ed96922",
            "6c36b2deba91469facd7815675f7a9e2",
            "3208aae0cb8e47cfb0695fcebfda6a62",
            "fc0985e4f01844a1b988f4006d1978cb",
            "a30a89e226614ffe9e2e5325357064d8",
            "2f7d473782974cec9bd8d6ec14f75652",
            "17bde5690fd24316afe47f503808c3c7",
            "9385646a297a4db4a52fd9915212770d",
            "0b9b61d0838c4ea08aa2d4ce88e5c58a",
            "a01ffd0d64c34626a1a337de8e185fae",
            "34ea587e80274784af50e29753186fd1",
            "78c25ecea14b4e1a893ff7099f1631f3",
            "a9fc46848e434b79b0f26ac23de1266c",
            "c566dd8a78dc4426847d73a24e39040a",
            "8d6e511c9dd549aba399e8e6f00025fb",
            "d43a3b97833d44c19e5916338850dced",
            "a79796b507584a31bfa0b3fd06385883",
            "b7e91c87b86c474994c6c23446aaf3ca",
            "59200efc00c44c12b30f2562c7a667c4",
            "a4cbd8b7d14241f8ad9dab84e83e5477",
            "18ba1e2728e148359229e773871d3de5",
            "2feadd98f0124d3896436b59c401e133",
            "158e149c1cf742a381ea54af230bc01c",
            "b5c32081fe9349d5934f2ba94ff01a48",
            "07ec59edfc144b3c8558282f15a128e2"
          ]
        },
        "outputId": "f238d6f7-072f-4d17-858a-4b16acfb2698"
      },
      "execution_count": 268,
      "outputs": [
        {
          "output_type": "display_data",
          "data": {
            "text/plain": [
              "HTML(value='\\n<style>\\n.widget-box {\\n    border-radius: 15px;\\n    box-shadow: 2px 2px 5px rgba(0, 0, 0, 0.2)…"
            ],
            "application/vnd.jupyter.widget-view+json": {
              "version_major": 2,
              "version_minor": 0,
              "model_id": "a04e1179a3b54ea2820976509667bed2"
            }
          },
          "metadata": {}
        },
        {
          "output_type": "display_data",
          "data": {
            "text/plain": [
              "VBox(children=(HTML(value='<h2>LabBot: Seu parceiro na busca pelo especialista ideal!</h2>'), HTML(value='<p>E…"
            ],
            "application/vnd.jupyter.widget-view+json": {
              "version_major": 2,
              "version_minor": 0,
              "model_id": "abbb579865a447cdb847684a558a5976"
            }
          },
          "metadata": {}
        }
      ]
    }
  ]
}