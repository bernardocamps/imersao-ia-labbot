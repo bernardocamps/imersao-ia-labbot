{
  "nbformat": 4,
  "nbformat_minor": 0,
  "metadata": {
    "colab": {
      "provenance": [],
      "authorship_tag": "ABX9TyNnXT0MlC+jbLTzAhOda+yV",
      "include_colab_link": true
    },
    "kernelspec": {
      "name": "python3",
      "display_name": "Python 3"
    },
    "language_info": {
      "name": "python"
    }
  },
  "cells": [
    {
      "cell_type": "markdown",
      "metadata": {
        "id": "view-in-github",
        "colab_type": "text"
      },
      "source": [
        "<a href=\"https://colab.research.google.com/github/bernardocamps/imersao-ia-labbot/blob/main/LabBot.ipynb\" target=\"_parent\"><img src=\"https://colab.research.google.com/assets/colab-badge.svg\" alt=\"Open In Colab\"/></a>"
      ]
    },
    {
      "cell_type": "markdown",
      "source": [
        "# Instalar e importar o Google Generative AI"
      ],
      "metadata": {
        "id": "B8hkA7N5NcMD"
      }
    },
    {
      "cell_type": "code",
      "execution_count": null,
      "metadata": {
        "id": "7pbf616x1Ida"
      },
      "outputs": [],
      "source": [
        "!pip install -q -U google-generativeai\n",
        "import google.generativeai as genai"
      ]
    },
    {
      "cell_type": "markdown",
      "source": [
        "# Configurar a API Key"
      ],
      "metadata": {
        "id": "jt0UeTi8OB69"
      }
    },
    {
      "cell_type": "code",
      "source": [
        "from google.colab import userdata\n",
        "GOOGLE_API_KEY=userdata.get('GOOGLE_API_KEY')\n",
        "genai.configure(api_key=GOOGLE_API_KEY)"
      ],
      "metadata": {
        "id": "fqnzs8yPNw1B"
      },
      "execution_count": null,
      "outputs": []
    },
    {
      "cell_type": "markdown",
      "source": [
        "# Listar os modelos disponíveis"
      ],
      "metadata": {
        "id": "IZtXfRLqNUJU"
      }
    },
    {
      "cell_type": "code",
      "source": [
        "for m in genai.list_models():\n",
        "  if 'generateContent' in m.supported_generation_methods:\n",
        "    print(m.name)"
      ],
      "metadata": {
        "id": "f5D_2PIQJyG-"
      },
      "execution_count": null,
      "outputs": []
    },
    {
      "cell_type": "markdown",
      "source": [
        "# Configurar os parâmetros"
      ],
      "metadata": {
        "id": "x_PnZUQIOQQI"
      }
    },
    {
      "cell_type": "code",
      "source": [
        "generation_config = {\n",
        "    \"candidate_count\": 1,\n",
        "    \"temperature\": 0.5,\n",
        "}"
      ],
      "metadata": {
        "id": "UOGt4TcHLKcv"
      },
      "execution_count": null,
      "outputs": []
    },
    {
      "cell_type": "markdown",
      "source": [
        "# Configurar as opções de segurança"
      ],
      "metadata": {
        "id": "xfXEKHqwOTpT"
      }
    },
    {
      "cell_type": "code",
      "source": [
        "safety_settings = {\n",
        "    \"HARASSMENT\": \"BLOCK_NONE\",\n",
        "    \"HATE\": \"BLOCK_NONE\",\n",
        "    \"SEXUAL\": \"BLOCK_NONE\",\n",
        "    \"DANGEROUS\": \"BLOCK_NONE\",\n",
        "}"
      ],
      "metadata": {
        "id": "L_m8Q7hSLkkx"
      },
      "execution_count": null,
      "outputs": []
    },
    {
      "cell_type": "markdown",
      "source": [
        "# Inicializar o modelo"
      ],
      "metadata": {
        "id": "5e7ILTazMQEh"
      }
    },
    {
      "cell_type": "code",
      "source": [
        "model = genai.GenerativeModel(model_name=\"gemini-1.0-pro\",\n",
        "                              generation_config=generation_config,\n",
        "                              safety_settings=safety_settings)"
      ],
      "metadata": {
        "id": "ouQyAAHTMSJn"
      },
      "execution_count": null,
      "outputs": []
    },
    {
      "cell_type": "markdown",
      "source": [
        "# Criar chat:"
      ],
      "metadata": {
        "id": "sYpTYTgGOkyQ"
      }
    },
    {
      "cell_type": "code",
      "source": [
        "chat = model.start_chat(history=[])"
      ],
      "metadata": {
        "id": "OnDy0HnOOnWQ"
      },
      "execution_count": null,
      "outputs": []
    },
    {
      "cell_type": "markdown",
      "source": [
        "# Iniciar chat com o LabBot:"
      ],
      "metadata": {
        "id": "nwxafrj9TT9M"
      }
    },
    {
      "cell_type": "code",
      "source": [
        "import ipywidgets as widgets\n",
        "from IPython.display import display, clear_output\n",
        "import contextlib\n",
        "import io\n",
        "from urllib.parse import quote\n",
        "\n",
        "# Estilos CSS\n",
        "style = \"\"\"\n",
        "<style>\n",
        ".widget-box {\n",
        "    border-radius: 15px;\n",
        "    box-shadow: 2px 2px 5px rgba(0, 0, 0, 0.2);\n",
        "    padding: 20px;\n",
        "    margin-bottom: 20px;\n",
        "}\n",
        ".output-widget {\n",
        "    padding: 15px;\n",
        "    border-radius: 8px;\n",
        "}\n",
        ".input-widget input[type=\"text\"] {\n",
        "    width: 100%;\n",
        "    padding: 10px;\n",
        "    border: 1px solid #ccc;\n",
        "    border-radius: 5px;\n",
        "}\n",
        "button {\n",
        "    border-radius: 10px !important;\n",
        "}\n",
        "p {\n",
        "    line-height: 1.6;\n",
        "}\n",
        "a {\n",
        "    color: #007bff;\n",
        "    text-decoration: none;\n",
        "}\n",
        "a:hover {\n",
        "    text-decoration: underline;\n",
        "}\n",
        "@media (max-width: 768px) {\n",
        "    .widget-box {\n",
        "        width: 90%;\n",
        "        margin: 0 auto;\n",
        "    }\n",
        "    .input-widget input[type=\"text\"], .output-widget {\n",
        "        font-size: 16px;\n",
        "    }\n",
        "}\n",
        "</style>\n",
        "\"\"\"\n",
        "display(widgets.HTML(style))\n",
        "\n",
        "# Widgets principais\n",
        "output_widget = widgets.Output(layout={'padding': '10px'})\n",
        "input_widget = widgets.Text(description=\"Exames:\", layout={'width': '400px'})\n",
        "city_widget = widgets.Text(description=\"Cidade:\", layout={'width': '300px'})\n",
        "button_widget = widgets.Button(description=\"Pesquisar\", button_style='info', layout={'width': '90px'})\n",
        "\n",
        "# Layout\n",
        "display(widgets.VBox([\n",
        "    widgets.HTML(\"<h2>LabBot: Seu parceiro na busca pelo especialista ideal!</h2>\"),\n",
        "    widgets.HTML(\"<p>Exames alterados? 🤔 Conte para mim quais são e onde você está, que eu te ajudo a encontrar o médico correto para avaliar o seu caso:</p>\"),\n",
        "    widgets.HBox([input_widget, city_widget, button_widget]),\n",
        "    output_widget\n",
        "]))\n",
        "\n",
        "# Função para enviar a mensagem\n",
        "def enviar_mensagem(_):\n",
        "    exames = input_widget.value\n",
        "    cidade = city_widget.value\n",
        "    input_widget.value = \"\"\n",
        "    city_widget.value = \"\"\n",
        "\n",
        "    if exames.lower() == \"fim\":\n",
        "        with output_widget:\n",
        "            clear_output()\n",
        "            print(\"👋 Até logo!\")\n",
        "        return\n",
        "\n",
        "    with output_widget:\n",
        "        with contextlib.redirect_stdout(io.StringIO()):\n",
        "            response = chat.send_message(f\"Para os exames alterados '{exames}', qual a especialidade médica mais indicada para avaliação? Responda apenas o nome do especialista recomendado. Não coloque o resultado entre ** **\")\n",
        "\n",
        "        clear_output()\n",
        "        print(f\"Médico recomendado: {response.text}\")\n",
        "\n",
        "        # Gera link para o Google Maps\n",
        "        especialidade_encoded = quote(response.text)\n",
        "        cidade_encoded = quote(cidade)\n",
        "        maps_link = f\"https://www.google.com/maps/search/{especialidade_encoded}+{cidade_encoded}\"\n",
        "        display(widgets.HTML(f'<a href=\"{maps_link}\" target=\"_blank\">Veja no Google Maps</a> 🔍'))\n",
        "\n",
        "# Eventos\n",
        "button_widget.on_click(enviar_mensagem)\n"
      ],
      "metadata": {
        "id": "8DN9qVB3RWso"
      },
      "execution_count": null,
      "outputs": []
    }
  ]
}